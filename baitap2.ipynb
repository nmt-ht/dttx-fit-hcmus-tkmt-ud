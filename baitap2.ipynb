{
 "cells": [
  {
   "cell_type": "markdown",
   "metadata": {},
   "source": [
    "# Bài tập 2 - Thư viện NumPy và pandas\n",
    "\n",
    "*(Thống kê máy tính và ứng dụng - ĐTTX Kì 1 2024-2025)*"
   ]
  },
  {
   "cell_type": "markdown",
   "metadata": {},
   "source": [
    "MSSV: 21850024\n",
    "\n",
    "Họ và tên: Nguyễn Minh Tư"
   ]
  },
  {
   "cell_type": "code",
   "execution_count": null,
   "metadata": {},
   "outputs": [],
   "source": [
    "pip install pandas"
   ]
  },
  {
   "cell_type": "code",
   "execution_count": 2,
   "metadata": {},
   "outputs": [],
   "source": [
    "import numpy as np\n",
    "import pandas as pd"
   ]
  },
  {
   "cell_type": "markdown",
   "metadata": {},
   "source": [
    "## Câu 1 (2 đ)\n",
    "\n",
    "Tạo `mat` là một ma trận kích thước 4x6 gồm các số nguyên với phần tử ở dòng $i$, cột $j$ là $10i + j$ (chỉ số dòng, cột tính từ 1). Thực hiện các thao tác sau trên ma trận `mat`\n",
    "\n",
    "1. Xuất ra dòng 2 và cột 3\n",
    "\n",
    "1. Xuất ra phần tử ở dòng cuối, cột cuối\n",
    "\n",
    "1. Xuất ra nửa trái của\n",
    "\n",
    "1. Tính tổng các phần tử trên mỗi dòng\n",
    "\n",
    "1. Trừ mỗi dòng một lượng là trung bình trên từng cột (canh giữa dữ liệu, centering)\n",
    "\n",
    "1. Đặt tất cả các phần tử dòng cuối là 0\n",
    "\n",
    "1. Đặt tất cả các phần tử trên đường chéo chính là 1\n",
    "\n",
    "1. Tách theo chiều dọc thành 2 ma trận con lần lượt gồm 2 cột và 4 cột\n",
    "\n",
    "1. Tách theo chiều ngang thành 2 ma trận con 2 dòng\n",
    "\n",
    "1. Đổi dạng thành tensor 2x3x4"
   ]
  },
  {
   "cell_type": "code",
   "execution_count": null,
   "metadata": {},
   "outputs": [],
   "source": [
    "# Tạo ma trận mat với kích thước 4x6, phần tử tại vị trí i, j là 10i + j (i, j tính từ 1)\n",
    "mat = np.array([[10 * i + j for j in range(1, 7)] for i in range(1, 5)])\n",
    "print('Tạo ma trận mat với kích thước 4x6, phần tử tại vị trí i, j là 10i + j (i, j tính từ 1): \\n', mat)\n",
    "\n",
    "# 1. Xuất ra dòng 2 và cột 3\n",
    "row_2_col_3 = mat[1, 2]\n",
    "print('1. Xuất ra dòng 2 và cột 3: ', row_2_col_3)\n",
    "\n",
    "# 2. Xuất ra phần tử ở dòng cuối, cột cuối\n",
    "last_element = mat[-1, -1]\n",
    "print('2. Xuất ra phần tử ở dòng cuối, cột cuối: ', last_element)\n",
    "\n",
    "# 3. Xuất ra nửa trái của ma trận\n",
    "left_half = mat[:, :mat.shape[1]//2]\n",
    "print('3. Xuất ra nửa trái của ma trận: \\n', left_half)\n",
    "\n",
    "# 4. Tính tổng các phần tử trên mỗi dòng, (axis = 1: theo hàng, axis = 0: theo cột)\n",
    "row_sum = np.sum(mat, axis=1)\n",
    "print('4. Tính tổng các phần tử trên mỗi dòng: ', row_sum)\n",
    "\n",
    "# 5. Trừ mỗi dòng một lượng là trung bình trên từng cột (canh giữa dữ liệu)\n",
    "column_means = np.mean(mat, axis=0)\n",
    "print('5. Trung bình trên từng cột: ', column_means)\n",
    "centered_mat = mat - column_means\n",
    "print('5. Ma trận sau khi canh giữa dữ liệu (trừ trung bình cột): \\n', centered_mat)\n",
    "\n",
    "# 6. Đặt tất cả các phần tử dòng cuối là 0\n",
    "mat_with_zero_last_row = mat.copy()\n",
    "mat_with_zero_last_row[-1, :] = 0\n",
    "print('6. Ma trận với dòng cuối đặt tất cả phần tử là 0: \\n', mat_with_zero_last_row)\n",
    "\n",
    "# 7. Đặt tất cả các phần tử trên đường chéo chính là 1\n",
    "mat_with_diagonal_one = mat.copy()\n",
    "np.fill_diagonal(mat_with_diagonal_one, 1)\n",
    "print('7. Ma trận với đường chéo chính là 1: \\n', mat_with_diagonal_one)\n",
    "\n",
    "# 8. Tách theo chiều dọc thành 2 ma trận con lần lượt gồm 2 cột và 4 cột\n",
    "split_vertical = np.hsplit(mat, [2])\n",
    "print('8. Tách theo chiều dọc thành 2 ma trận con: \\nMa trận 1: \\n', split_vertical[0], '\\nMa trận 2: \\n', split_vertical[1])\n",
    "\n",
    "# 9. Tách theo chiều ngang thành 2 ma trận con 2 dòng\n",
    "split_horizontal = np.vsplit(mat, [2])\n",
    "print('9. Tách theo chiều ngang thành 2 ma trận con: \\nMa trận 1: \\n', split_horizontal[0], '\\nMa trận 2: \\n', split_horizontal[1])\n",
    "\n",
    "# 10. Đổi dạng thành tensor 2x3x4\n",
    "tensor_2x3x4 = mat.reshape(2, 3, 4)\n",
    "print('10. Đổi dạng thành tensor 2x3x4: \\n', tensor_2x3x4)"
   ]
  },
  {
   "cell_type": "markdown",
   "metadata": {},
   "source": [
    "## Câu 2 (4 đ)\n",
    "\n",
    "1. Tìm hiểu bộ dữ liệu `Breast Cancer Wisconsin (Original)` (https://archive.ics.uci.edu/dataset/15/breast+cancer+wisconsin+original)\n",
    "\n",
    "1. Download tập tin dữ liệu `breast+cancer+wisconsin+original.zip` (https://archive.ics.uci.edu/static/public/15/breast+cancer+wisconsin+original.zip), lấy ra tập tin `breast-cancer-wisconsin.data` và nạp dữ liệu vào `DataFrame` tên là `breast_cancer`, kiểm tra thông tin của bảng dữ liệu nạp được\n",
    "\n",
    "1. Lưu ý là bộ dữ liệu này có ô bị thiếu (đánh dấu bằng dấu ?), nạp lại dữ liệu cho đúng và kiểm tra lại thông tin của bảng dữ liệu\n",
    "\n",
    "1. Kiểm tra có bao nhiêu ô NA, bao nhiêu dòng có chứa NA, bao nhiêu cột có chứa NA và tìm chiến lược xử lý NA phù hợp (xóa các dòng chứa NA hay xóa các cột chứa NA hay điền giá trị cho NA với các chiến lược khác nhau)\n",
    "\n",
    "1. Tính tỉ lệ mẫu ác tính (`class` là 4 = malignant) và sửa lại cột `class` với giá trị 1 là ác tính và 0 là lành tính\n",
    "\n",
    "1. Dùng phương thức `describe` mô tả toàn bộ dữ liệu và dữ liệu tách riêng theo lành tính và ác tính. Nhận xét.\n",
    "\n",
    "1. Xét riêng đặc trưng (cột) `Clump Thickness`, tính trung bình cho toàn bộ dữ liệu và dữ liệu tách riêng theo lành tính và ác tính. Nhận xét. Đặc trưng `Clump Thickness` có phản ánh nhiều khả năng ác tính không? Vì sao?\n",
    "\n",
    "1. Đặc trưng nào liên quan nhiều nhất đến khả năng ác tính? Vì sao?\n",
    "\n",
    "1. Gom nhóm dữ liệu theo `Clump Thickness` và tính tỉ lệ ác tính theo từng nhóm, nhận xét\n",
    "\n",
    "1. Tương tự trên nhưng gom nhóm dữ liệu theo `Uniformity of Cell Size` và lần lượt theo `Clump Thickness`, `Uniformity of Cell Size`"
   ]
  },
  {
   "cell_type": "code",
   "execution_count": 4,
   "metadata": {},
   "outputs": [],
   "source": [
    "# 1. Bộ dữ liệu Breast Cancer Wisconsin (Original) (https://archive.ics.uci.edu/dataset/15/breast+cancer+wisconsin+original) là một tập dữ liệu, thường được sử dụng trong các nghiên cứu và bài toán liên quan đến dự đoán ung thư vú. Bộ dữ liệu này được phát triển từ một nghiên cứu thực hiện tại Bệnh viện Đại học Wisconsin, nhằm chẩn đoán ung thư vú dựa trên các đặc trưng tế bào học của khối u.\n",
    "    #a. Mô tả bộ dữ liệu:\n",
    "        # - Nguồn gốc: Bộ dữ liệu được lấy từ các hình ảnh quét tế bào của khối u vú.\n",
    "        # - Loại dữ liệu: Dữ liệu này thuộc phân loại với hai nhãn: lành tính và ác tính.\n",
    "        # Các thông tin cụ thể về bộ dữ liệu:\n",
    "        # Số lượng mẫu: 699 mẫu.\n",
    "        # Số lượng thuộc tính: 11 thuộc tính (10 thuộc tính số + 1 thuộc tính ID).\n",
    "        # Thuộc tính mục tiêu: Phân loại khối u thành hai loại:\n",
    "            # 2: Lành tính (Benign)\n",
    "            # 4: Ác tính (Malignant)\n",
    "        # Các thuộc tính:\n",
    "            # ID số (identifier): Là chỉ số định danh duy nhất cho mỗi bệnh nhân.\n",
    "            # Clump Thickness: Độ dày khối u.\n",
    "            # Uniformity of Cell Size: Độ đồng đều kích thước tế bào.\n",
    "            # Uniformity of Cell Shape: Độ đồng đều hình dạng tế bào.\n",
    "            # Marginal Adhesion: Mức độ kết dính của tế bào.\n",
    "            # Single Epithelial Cell Size: Kích thước tế bào biểu mô đơn lẻ.\n",
    "            # Bare Nuclei: Nhân trần (nuclei không có cytoplasm).\n",
    "            # Bland Chromatin: Độ nhạt màu của chất nhiễm sắc.\n",
    "            # Normal Nucleoli: Số lượng nucleoli bình thường.\n",
    "            # Mitoses: Sự phân chia tế bào (số lần phân chia).\n",
    "            # Class (Target): Mục tiêu phân loại, gồm hai giá trị:\n",
    "                # 2: Lành tính\n",
    "                # 4: Ác tính\n",
    "    #b. Ý nghĩa các thuộc tính: Các thuộc tính này mô tả đặc trưng tế bào học của các khối u dựa trên ảnh quét tế bào. Chúng được đánh giá trên thang điểm từ 1 (rất ít nghi ngờ) đến 10 (rất nhiều nghi ngờ). Các đặc trưng này sau đó được sử dụng để dự đoán liệu khối u là lành tính hay ác tính.\n",
    "    #c. Mục đích sử dụng:\n",
    "        # Các mô hình học máy: Sử dụng để huấn luyện các mô hình phân loại (như hồi quy logistic, SVM, cây quyết định, mạng nơ-ron, v.v.) nhằm phân loại ung thư vú.\n",
    "        # Bài toán chẩn đoán y học: Bộ dữ liệu này là nền tảng cho việc phát triển các hệ thống hỗ trợ quyết định trong y học, đặc biệt trong việc phát hiện sớm và phân loại ung thư.\n"
   ]
  },
  {
   "cell_type": "code",
   "execution_count": 5,
   "metadata": {},
   "outputs": [],
   "source": [
    "\n",
    "# 2. Download tập tin dữ liệu `breast+cancer+wisconsin+original.zip` (https://archive.ics.uci.edu/static/public/15/breast+cancer+wisconsin+original.zip), lấy ra tập tin `breast-cancer-wisconsin.data` và nạp dữ liệu vào `DataFrame` tên là `breast_cancer`, kiểm tra thông tin của bảng dữ liệu nạp được\n",
    "\n",
    "# Xác định đường dẫn của file cần lấy (breast-cancer-wisconsin.data)\n",
    "data_file_path = \"breast-cancer-wisconsin.data\"\n",
    "\n",
    "# Nạp dữ liệu từ file vào DataFrame\n",
    "column_names = [\n",
    "    \"ID\", \"Clump Thickness\", \"Uniformity of Cell Size\", \"Uniformity of Cell Shape\", \n",
    "    \"Marginal Adhesion\", \"Single Epithelial Cell Size\", \"Bare Nuclei\", \n",
    "    \"Bland Chromatin\", \"Normal Nucleoli\", \"Mitoses\", \"Class\"\n",
    "]\n",
    "breast_cancer = pd.read_csv(data_file_path, names=column_names)\n",
    "# print(breast_cancer)\n"
   ]
  },
  {
   "cell_type": "code",
   "execution_count": null,
   "metadata": {},
   "outputs": [],
   "source": [
    "\n",
    "# 3. Lưu ý là bộ dữ liệu này có ô bị thiếu (đánh dấu bằng dấu ?), nạp lại dữ liệu cho đúng và kiểm tra lại thông tin của bảng dữ liệu\n",
    "breast_cancer.replace('?', pd.NA, inplace=True)\n",
    "\n",
    "# 4. Kiểm tra các hàng có giá trị NaN\n",
    "print(f\"Các hàng có giá trị NULL: \\n {breast_cancer.isnull().sum()}\")\n",
    "\n",
    "# Cách 1: Xóa những hàng có dữ liệu bị thiếu\n",
    "# breast_cancer_cleaned = breast_cancer.dropna()\n",
    "\n",
    "# Kiểm tra dữ liệu\n",
    "# print(breast_cancer_cleaned.isna().sum())\n",
    "\n",
    "# Cách 2: Chuyển column 'Bare Nuclei' sang kiểu dữ liệu số, cài đặt errors='coerce' để xử lý cú pháp không hợp lệ, ví dụ '?' thành NaN\n",
    "breast_cancer['Bare Nuclei'] = pd.to_numeric(breast_cancer['Bare Nuclei'], errors='coerce')\n",
    "\n",
    "# Chỉ điền các giá trị (NaN) còn thiếu bằng giá trị trung bình của Bare Nuclei\n",
    "median_value = breast_cancer['Bare Nuclei'].median()\n",
    "breast_cancer['Bare Nuclei'].fillna(median_value, inplace=True)\n",
    "\n",
    "# Kiểm tra dữ liệu\n",
    "print(\"\\n\")\n",
    "print(f\"Các hàng có giá trị NULL sau khi xử lý lại dữ liệu: \\n {breast_cancer.isnull().sum()}\")\n"
   ]
  },
  {
   "cell_type": "code",
   "execution_count": null,
   "metadata": {},
   "outputs": [],
   "source": [
    "# 5. Tính tỉ lệ mẫu ác tính (`class` là 4 = malignant) và sửa lại cột `class` với giá trị 1 là ác tính và 0 là lành tính\n",
    "\n",
    "# Bước 1: Tính tỉ lệ mẫu ác tính (Class == 4)\n",
    "\n",
    "total_samples = breast_cancer.shape[0]  # Tổng số hàng/mẫu\n",
    "malignant_samples = breast_cancer[breast_cancer['Class'] == 4].shape[0]  # Mẫu ác tính (Class == 4)\n",
    "malignant_ratio = malignant_samples / total_samples  # Tỷ lệ của mẫu ác tính\n",
    "\n",
    "print(f\"Tổng số lượng mẫu: {total_samples}\")\n",
    "print(f\"Số lượng mẫu ác tính: {malignant_samples}\")\n",
    "print(f\"Tỉ lệ mẫu ác tính: {malignant_ratio:.2%}\")  \n",
    "\n",
    "# Bước 2: sửa lại cột `class` với 1 = ác tính và 0 = lành tính\n",
    "breast_cancer['Class'] = breast_cancer['Class'].map({2: 0, 4: 1})\n",
    "\n",
    "# Kiểm tra dữ liệu\n",
    "print(breast_cancer['Class'].value_counts())\n"
   ]
  },
  {
   "cell_type": "code",
   "execution_count": null,
   "metadata": {},
   "outputs": [],
   "source": [
    "# 6. Dùng phương thức `describe` mô tả toàn bộ dữ liệu và dữ liệu tách riêng theo lành tính và ác tính. Nhận xét.\n",
    "# Bước 1: Dùng describe() để mô tả toàn bộ dữ liệu\n",
    "print(\"Mô tả toàn bộ dữ liệu:\")\n",
    "print(breast_cancer.describe())\n",
    "\n",
    "# Bước 2: Mô tả riêng dữ liệu lành tính (Class == 0)\n",
    "print(\"\\nMô tả dữ liệu lành tính (Class == 0):\")\n",
    "print(breast_cancer[breast_cancer['Class'] == 0].describe())\n",
    "\n",
    "# Bước 3: Mô tả riêng dữ liệu ác tính (Class == 1)\n",
    "print(\"\\nMô tả dữ liệu ác tính (Class == 1):\")\n",
    "print(breast_cancer[breast_cancer['Class'] == 1].describe())\n",
    "\n",
    "# Nhận xét về mô tả toàn bộ dữ liệu\n",
    "print(\"Nhận xét về mô tả toàn bộ dữ liệu:\")\n",
    "print(\"1. Dữ liệu có tổng cộng 699 mẫu, với các đặc trưng như 'Clump Thickness' và 'Uniformity of Cell Size' có giá trị dao động từ 1 đến 10.\")\n",
    "print(\"2. Giá trị trung bình của 'Clump Thickness' là {:.2f}, cho thấy độ dày khối u trung bình ở các mẫu.\".format(breast_cancer['Clump Thickness'].mean()))\n",
    "print(\"3. Giá trị trung bình của 'Uniformity of Cell Size' là {:.2f}, cho thấy sự đồng nhất kích thước tế bào trung bình.\".format(breast_cancer['Uniformity of Cell Size'].mean()))\n",
    "print(\"4. Có sự chênh lệch đáng kể giữa các giá trị tối thiểu và tối đa trong cả hai đặc trưng, cho thấy sự đa dạng trong mẫu dữ liệu.\".format(breast_cancer['Uniformity of Cell Size'].min(), breast_cancer['Uniformity of Cell Size'].max()))\n",
    "\n",
    "# Nhận xét về dữ liệu lành tính (Class == 0)\n",
    "print(\"\\nNhận xét về dữ liệu lành tính (Class == 0):\")\n",
    "print(\"1. Dữ liệu lành tính có tổng cộng 458 mẫu với độ dày khối u trung bình là {:.2f}.\".format(breast_cancer[breast_cancer['Class'] == 0]['Clump Thickness'].mean()))\n",
    "print(\"2. Sự đồng nhất kích thước tế bào trung bình là {:.2f}.\".format(breast_cancer[breast_cancer['Class'] == 0]['Uniformity of Cell Size'].mean()))\n",
    "print(\"3. Từ các chỉ số này, có thể thấy rằng các mẫu lành tính có các giá trị thấp hơn cho cả 'Clump Thickness' và 'Uniformity of Cell Size'.\".format())\n",
    "\n",
    "# Nhận xét về dữ liệu ác tính (Class == 1)\n",
    "print(\"\\nNhận xét về dữ liệu ác tính (Class == 1):\")\n",
    "print(\"1. Dữ liệu ác tính có tổng cộng 241 mẫu với độ dày khối u trung bình là {:.2f}.\".format(breast_cancer[breast_cancer['Class'] == 1]['Clump Thickness'].mean()))\n",
    "print(\"2. Sự đồng nhất kích thước tế bào trung bình là {:.2f}.\".format(breast_cancer[breast_cancer['Class'] == 1]['Uniformity of Cell Size'].mean()))\n",
    "print(\"3. Các mẫu ác tính có giá trị cao hơn cho cả hai đặc trưng, cho thấy mối liên hệ tích cực giữa độ dày và khả năng ác tính.\".format())\n",
    "\n",
    "# Tổng kết\n",
    "print(\"\\nTổng kết:\")\n",
    "print(\"Sự chênh lệch rõ rệt giữa các mẫu lành tính và ác tính cho thấy rằng cả 'Clump Thickness' và 'Uniformity of Cell Size' là những chỉ số quan trọng trong việc xác định khả năng ác tính của khối u.\")\n",
    "print(\"Việc sử dụng những đặc trưng này có thể giúp trong việc phát hiện sớm và chẩn đoán bệnh ung thư.\")\n"
   ]
  },
  {
   "cell_type": "code",
   "execution_count": null,
   "metadata": {},
   "outputs": [],
   "source": [
    "# 7. Xét riêng đặc trưng (cột) `Clump Thickness`, tính trung bình cho toàn bộ dữ liệu và dữ liệu tách riêng theo lành tính và ác tính. Nhận xét. Đặc trưng `Clump Thickness` có phản ánh nhiều khả năng ác tính không? Vì sao?\n",
    "\n",
    "# Bước 1: Tính trung bình của cột 'Clump Thickness' cho toàn bộ dữ liệu\n",
    "mean_clump_thickness_all = breast_cancer['Clump Thickness'].mean()\n",
    "\n",
    "# Bước 2: Tính trung bình riêng cho dữ liệu lành tính (Class == 0) và ác tính (Class == 1)\n",
    "mean_clump_thickness_benign = breast_cancer[breast_cancer['Class'] == 0]['Clump Thickness'].mean()\n",
    "mean_clump_thickness_malignant = breast_cancer[breast_cancer['Class'] == 1]['Clump Thickness'].mean()\n",
    "\n",
    "# Bước 3: Hiển thị kết quả\n",
    "print(f\"Trung bình 'Clump Thickness' cho toàn bộ dữ liệu: {mean_clump_thickness_all}\")\n",
    "print(f\"Trung bình 'Clump Thickness' cho dữ liệu lành tính: {mean_clump_thickness_benign}\")\n",
    "print(f\"Trung bình 'Clump Thickness' cho dữ liệu ác tính: {mean_clump_thickness_malignant}\")\n",
    "\n",
    "# Nhận xét\n",
    "if mean_clump_thickness_malignant > mean_clump_thickness_benign:\n",
    "    print(\"Đặc trưng 'Clump Thickness' có xu hướng cao hơn trong các mẫu ác tính, phản ánh khả năng ác tính.\")\n",
    "else:\n",
    "    print(\"Đặc trưng 'Clump Thickness' không phản ánh rõ ràng khả năng ác tính.\")\n"
   ]
  },
  {
   "cell_type": "code",
   "execution_count": null,
   "metadata": {},
   "outputs": [],
   "source": [
    "# 8. Đặc trưng nào liên quan nhiều nhất đến khả năng ác tính? Vì sao?\n",
    "print(\"Dựa trên phân tích, Clump Thickness là đặc trưng có liên quan mạnh mẽ nhất đến khả năng ác tính trong ung thư vú. Giá trị cao của Clump Thickness thường đi kèm với nguy cơ ác tính cao hơn. Tuy nhiên, để có kết luận chính xác và toàn diện, cần kết hợp phân tích thêm các đặc trưng khác và sử dụng các phương pháp thống kê phù hợp. Ví dụ như: Uniformity of Cell Size, và Bare Nuclei thường là những đặc trưng cũng có liên quan nhiều nhất đến khả năng ác tính, vì chúng thể hiện sự bất thường và thay đổi hình thái của tế bào, một dấu hiệu thường gặp ở các tế bào ung thư.\")"
   ]
  },
  {
   "cell_type": "code",
   "execution_count": null,
   "metadata": {},
   "outputs": [],
   "source": [
    "# 9. Gom nhóm dữ liệu theo `Clump Thickness` và tính tỉ lệ ác tính theo từng nhóm, nhận xét\n",
    "# Bước 1: Gom nhóm dữ liệu theo 'Clump Thickness'\n",
    "clump_thickness_grouped_data = breast_cancer.groupby('Clump Thickness')\n",
    "\n",
    "# Bước 2: Tính tỷ lệ ác tính cho từng nhóm\n",
    "# Đếm số lượng mẫu ác tính (Class == 1) và tổng số mẫu trong từng nhóm\n",
    "malignant_counts = clump_thickness_grouped_data['Class'].apply(lambda x: (x == 1).sum())  # Số lượng mẫu ác tính\n",
    "total_counts = clump_thickness_grouped_data['Class'].count()    # Tổng số mẫu trong mỗi nhóm\n",
    "\n",
    "# Tính tỷ lệ ác tính cho từng nhóm\n",
    "malignant_rate_per_clump_thickness_group = malignant_counts / total_counts\n",
    "print(\"Tỷ lệ ác tính theo từng nhóm Clump Thickness:\")\n",
    "print(malignant_rate_per_clump_thickness_group)\n",
    "\n",
    "# Nhận xét:\n",
    "print(\"Nhận xét Clump Thickness: Sau khi tính toán, ta có thể thấy rằng tỉ lệ ác tính có thể tăng dần theo Clump Thickness. Điều này có nghĩa là khi độ dày của khối u tăng lên, khả năng mẫu ác tính của tăng theo.  Các nhóm có Clump Thickness lớn hơn có thể tỷ lệ ác tính cao hơn, cho thấy sự liên quan của đặc trưng này với ung thư ác tính\")"
   ]
  },
  {
   "cell_type": "code",
   "execution_count": null,
   "metadata": {},
   "outputs": [],
   "source": [
    "# 10. Tương tự trên nhưng gom nhóm dữ liệu theo `Uniformity of Cell Size` và lần lượt theo `Clump Thickness`, `Uniformity of Cell Size`\n",
    "# Bước 1: Gom nhóm dữ liệu theo 'Uniformity of Cell Size'\n",
    "grouped_by_size = breast_cancer.groupby('Uniformity of Cell Size')\n",
    "\n",
    "# Bước 2: Tính tỷ lệ ác tính cho từng nhóm\n",
    "malignant_counts_size = grouped_by_size['Class'].apply(lambda x: (x == 1).sum())  # Số lượng mẫu ác tính\n",
    "total_counts_size = grouped_by_size['Class'].count()    # Tổng số mẫu trong mỗi nhóm\n",
    "\n",
    "# Tính tỷ lệ ác tính cho từng nhóm\n",
    "malignant_rate_per_group_size = malignant_counts_size / total_counts_size\n",
    "\n",
    "# Hiển thị tỷ lệ ác tính theo từng nhóm 'Uniformity of Cell Size'\n",
    "print(\"Tỷ lệ ác tính theo từng nhóm Uniformity of Cell Size:\")\n",
    "print(malignant_rate_per_group_size)\n",
    "\n",
    "# Nhận xét:\n",
    "print(\"Nhận xét dữ liệu theo nhóm Uniformity of Cell Size: 1. Xu hướng Tăng: Tỷ lệ ác tính tăng dần từ nhóm 1 đến nhóm 10. Điều này cho thấy rằng khi Uniformity of Cell Size tăng (nghĩa là sự đồng nhất của kích thước tế bào giảm), khả năng ác tính của mẫu tăng lên. 2. Giá trị cao: Từ giá trị 5 trở đi, tỷ lệ ác tính gần như đạt đến 1.00, tức là hầu như tất cả các mẫu trong các nhóm này đều ác tính. Điều này gợi ý rằng sự không đồng nhất của kích thước tế bào có thể là một yếu tố quan trọng trong việc xác định khả năng ác tính.\")\n",
    "\n",
    "# Gom nhóm dữ liệu theo `Clump Thickness`, `Uniformity of Cell Size`\n",
    "# Bước 1: Gom nhóm dữ liệu theo 'Clump Thickness' và 'Uniformity of Cell Size'\n",
    "grouped_by_thickness_size = breast_cancer.groupby(['Clump Thickness', 'Uniformity of Cell Size'])\n",
    "\n",
    "# Bước 2: Tính tỷ lệ ác tính cho từng nhóm\n",
    "malignant_counts_thickness_size = grouped_by_thickness_size['Class'].apply(lambda x: (x == 1).sum())  # Số lượng mẫu ác tính\n",
    "total_counts_thickness_size = grouped_by_thickness_size['Class'].count()    # Tổng số mẫu trong mỗi nhóm\n",
    "\n",
    "# Tính tỷ lệ ác tính cho từng nhóm\n",
    "malignant_rate_per_group_thickness_size = malignant_counts_thickness_size / total_counts_thickness_size\n",
    "\n",
    "# Hiển thị tỷ lệ ác tính theo từng nhóm 'Clump Thickness' và 'Uniformity of Cell Size'\n",
    "print(\"Tỷ lệ ác tính theo từng nhóm Clump Thickness và Uniformity of Cell Size:\")\n",
    "print(malignant_rate_per_group_thickness_size)\n",
    "\n",
    "print(\"Nhận xét dữ liệu theo nhóm Clump Thickness và Uniformity of Cell Size: Có thể thấy rằng trong các nhóm Clump Thickness thấp, tỷ lệ ác tính có thể thấp, nhưng khi Clump Thickness và Uniformity of Cell Size cùng tăng, tỷ lệ ác tính có xu hướng tăng mạnh. Điều này chỉ ra rằng không chỉ riêng Clump Thickness mà sự kết hợp giữa hai đặc trưng này đóng vai trò quan trọng trong việc xác định khả năng ác tính. Ví dụ: Nếu nhóm có Clump Thickness từ 7 đến 10 và Uniformity of Cell Size từ 7 đến 10 có tỷ lệ ác tính rất cao (ví dụ: > 0.80), thì có thể kết luận rằng cả hai yếu tố này đều có ảnh hưởng lớn đến khả năng ác tính của mẫu.\")"
   ]
  },
  {
   "cell_type": "markdown",
   "metadata": {},
   "source": [
    "## Câu 3 (4 đ)"
   ]
  },
  {
   "cell_type": "markdown",
   "metadata": {},
   "source": [
    "**3.1. (0.5 đ)** Tạo bảng dữ liệu SUPPLIER cho biết thông tin các hãng cung ứng sản phẩm như sau:\n",
    "\n",
    "S# | NAME   | STATUS |\tCITY\n",
    "---|--------|--------|-------\n",
    "S1 | Smith\t| 20     | London\n",
    "S2 | Jones  | 10     | Paris\n",
    "S3 | Blacke | 25     | London\n",
    "\n",
    "Trong đó:\n",
    "  - S# là mã nhà cung ứng\n",
    "  - NAME là tên nhà cung ứng\n",
    "  - STATUS cho biết qui mô nhà cung ứng\n",
    "  - CITY cho biết thành phố đặt trụ sở"
   ]
  },
  {
   "cell_type": "code",
   "execution_count": null,
   "metadata": {},
   "outputs": [],
   "source": [
    "# Tạo dữ liệu cho bảng SUPPLIER\n",
    "supplier_data = {\n",
    "    'S#': ['S1', 'S2', 'S3'],\n",
    "    'NAME': ['Smith', 'Jones', 'Blacke'],\n",
    "    'STATUS': [20, 10, 25],\n",
    "    'CITY': ['London', 'Paris', 'London']\n",
    "}\n",
    "\n",
    "# Tạo DataFrame\n",
    "supplier_df = pd.DataFrame(supplier_data)\n",
    "\n",
    "# Hiển thị DataFrame\n",
    "print(supplier_df)"
   ]
  },
  {
   "cell_type": "markdown",
   "metadata": {},
   "source": [
    "**3.2. (0.5 đ)** Tạo bảng dữ liệu PRODUCT cho biết thông tin các sản phẩm như sau:\n",
    "\n",
    "P# | NAME   | COLOR | WEIGHT | CITY\n",
    "---|--------|-------|--------|-----\n",
    "P1 | Nut\t| Red   | 13     | London\n",
    "P2 | Screw   | Green | 17     | Paris\n",
    "P3 | Screw  | Blue  | 14     | Roma\n",
    "P4 | Bolt  | Red   | 17     | London\n",
    "\n",
    "Trong đó:\n",
    "  - P# là mã sản phẩm\n",
    "  - NAME là tên sản phẩm\n",
    "  - COLOR là màu sản phẩm\n",
    "  - WEIGHT cho biết trọng lượng sản phẩm\n",
    "  - CITY cho biết nơi bán sản phẩm"
   ]
  },
  {
   "cell_type": "code",
   "execution_count": null,
   "metadata": {},
   "outputs": [],
   "source": [
    "# Tạo dữ liệu cho bảng PRODUCT\n",
    "product_data = {\n",
    "    'P#': ['P1', 'P2', 'P3', 'P4'],\n",
    "    'NAME': ['Nut', 'Screw', 'Screw', 'Bolt'],\n",
    "    'COLOR': ['Red', 'Green', 'Blue', 'Red'],\n",
    "    'WEIGHT': [13, 17, 14, 17],\n",
    "    'CITY': ['London', 'Paris', 'Roma', 'London']\n",
    "}\n",
    "\n",
    "# Tạo DataFrame\n",
    "product_df = pd.DataFrame(product_data)\n",
    "\n",
    "# Hiển thị DataFrame\n",
    "print(product_df)"
   ]
  },
  {
   "cell_type": "markdown",
   "metadata": {},
   "source": [
    "**3.3. (0.5 đ)** Tạo bảng dữ liệu SUPPLIES cho biết thông tin các cung ứng như sau:\n",
    "\n",
    "S# | P# | QTY\n",
    "---|----|-----\n",
    "S1 | P2\t| 200\n",
    "S1 | P1 | 200\n",
    "S1 | P3 | 400\n",
    "S2 | P1 | 300\n",
    "S3 | P1 | 400\n",
    "S3 | P2 | 200\n",
    "\n",
    "Trong đó:\n",
    "  - S# là mã nhà cung ứng\n",
    "  - P# là mã sản phẩm\n",
    "  - QTY là số lượng sản phẩm được cung ứng"
   ]
  },
  {
   "cell_type": "code",
   "execution_count": null,
   "metadata": {},
   "outputs": [],
   "source": [
    "# Tạo dữ liệu cho bảng SUPPLIES\n",
    "supplies_data = {\n",
    "    'S#': ['S1', 'S1', 'S1', 'S2', 'S3', 'S3'],\n",
    "    'P#': ['P2', 'P1', 'P3', 'P1', 'P1', 'P2'],\n",
    "    'QTY': [200, 200, 400, 300, 400, 200]\n",
    "}\n",
    "\n",
    "# Tạo DataFrame\n",
    "supplies_df = pd.DataFrame(supplies_data)\n",
    "\n",
    "# Hiển thị DataFrame\n",
    "print(supplies_df)"
   ]
  },
  {
   "cell_type": "markdown",
   "metadata": {},
   "source": [
    "**3.4. (2.5 đ)** Từ 3 bảng trên, thực hiện các truy vấn dữ liệu sau (có thể viết thêm các hàm phụ nếu cần):\n",
    "\n",
    "1.\tĐưa ra danh sách các hãng cung ứng có trụ sở (CITY) ở London.\n",
    "\n",
    "1.\tĐưa ra tên (NAME) của các sản phẩm có trọng lượng (WEIGHT) lớn hơn 14 và có màu (COLOR) đỏ (Red).\n",
    "\n",
    "1.\tĐưa ra tên (NAME) của hãng có STATUS lớn nhất.\n",
    "\n",
    "1.\tĐưa ra tên của các hãng cung ứng mặt hàng Nut hoặc Bolt.\n",
    "\n",
    "1.\tĐưa ra tên của các hãng cung ứng ít nhất một mặt hàng màu đỏ.\n",
    "\n",
    "1. Đưa ra tên của hãng cung ứng mặt hàng Nut với số lượng nhiều nhất.\n",
    "\n",
    "1.\tĐưa ra tên của các hãng cung ứng ít nhất hai mặt hàng.\n",
    "\n",
    "1. Đưa ra tên của các mặt hàng được cung ứng bởi tất cả các hãng. "
   ]
  },
  {
   "cell_type": "code",
   "execution_count": null,
   "metadata": {},
   "outputs": [],
   "source": [
    "london_suppliers = supplier_df[supplier_df['CITY'] == 'London']\n",
    "print(\"Hãng cung ứng ở London:\")\n",
    "print(london_suppliers[['NAME']])"
   ]
  },
  {
   "cell_type": "code",
   "execution_count": null,
   "metadata": {},
   "outputs": [],
   "source": [
    "red_products = product_df[(product_df['WEIGHT'] > 14) & (product_df['COLOR'] == 'Red')]\n",
    "print(\"\\nSản phẩm màu đỏ có trọng lượng lớn hơn 14:\")\n",
    "print(red_products[['NAME']])"
   ]
  },
  {
   "cell_type": "code",
   "execution_count": null,
   "metadata": {},
   "outputs": [],
   "source": [
    "max_status_supplier = supplier_df[supplier_df['STATUS'] == supplier_df['STATUS'].max()]\n",
    "print(\"\\nHãng có STATUS lớn nhất:\")\n",
    "print(max_status_supplier[['NAME']])"
   ]
  },
  {
   "cell_type": "code",
   "execution_count": 19,
   "metadata": {},
   "outputs": [],
   "source": [
    "# nut_bolt_suppliers = supplies_df[supplies_df['P#'].isin(['P1', 'P4'])]\n",
    "# nut_bolt_suppliers = supplier_df[supplier_df['S#'].isin(nut_bolt_suppliers['S#'])]\n",
    "# print(\"\\nHãng cung ứng mặt hàng Nut hoặc Bolt:\")\n",
    "# print(nut_bolt_suppliers[['NAME']])"
   ]
  },
  {
   "cell_type": "code",
   "execution_count": null,
   "metadata": {},
   "outputs": [],
   "source": [
    "supplies_products = pd.merge(supplies_df, product_df, on='P#', suffixes=('_supplies', '_products'))\n",
    "# print(supplies_products)\n",
    "supplier_details = pd.merge(supplier_df, supplies_products, on='S#', suffixes=('_supplier', '_products'))\n",
    "# print(supplier_details)\n",
    "filtered_suppliers = supplier_details[supplier_details['NAME_products'].isin(['Nut', 'Bolt'])]\n",
    "# print(filtered_suppliers)\n",
    "\n",
    "print(\"\\nHãng cung ứng mặt hàng Nut hoặc Bolt:\")\n",
    "print(filtered_suppliers[['NAME_supplier']])"
   ]
  },
  {
   "cell_type": "code",
   "execution_count": null,
   "metadata": {},
   "outputs": [],
   "source": [
    "red_item_suppliers = supplies_df[supplies_df['P#'].isin(product_df[product_df['COLOR'] == 'Red']['P#'])]\n",
    "red_item_suppliers = supplier_df[supplier_df['S#'].isin(red_item_suppliers['S#'])]\n",
    "print(\"\\nHãng cung ứng ít nhất một mặt hàng màu đỏ:\")\n",
    "print(red_item_suppliers[['NAME']])"
   ]
  },
  {
   "cell_type": "code",
   "execution_count": null,
   "metadata": {},
   "outputs": [],
   "source": [
    "# nut_supplies = supplies_df[supplies_df['P#'] == 'P1']\n",
    "nut_supplies = supplies_products[supplies_products['NAME'] == 'Nut']\n",
    "max_qty = nut_supplies['QTY'].max()\n",
    "max_qty_suppliers = nut_supplies[nut_supplies['QTY'] == max_qty]\n",
    "suppliers_details = pd.merge(supplier_df, max_qty_suppliers, on='S#', suffixes=('_supplier', '_max_qty_supplier'))\n",
    "# print(suppliers_details)\n",
    "# print(suppliers_details.columns)\n",
    "print(\"\\nHãng cung ứng mặt hàng Nut với số lượng nhiều nhất:\")\n",
    "print(suppliers_details[['NAME_supplier']])"
   ]
  },
  {
   "cell_type": "code",
   "execution_count": null,
   "metadata": {},
   "outputs": [],
   "source": [
    "supplier_item_count = supplies_df.groupby('S#').size()\n",
    "multiple_items_suppliers = supplier_item_count[supplier_item_count >= 2].index\n",
    "suppliers_with_multiple_items = supplier_df[supplier_df['S#'].isin(multiple_items_suppliers)]\n",
    "print(\"\\nHãng cung ứng ít nhất hai mặt hàng:\")\n",
    "print(suppliers_with_multiple_items[['NAME']])"
   ]
  },
  {
   "cell_type": "code",
   "execution_count": null,
   "metadata": {},
   "outputs": [],
   "source": [
    "all_suppliers = set(supplies_df['S#'])\n",
    "products_by_all_suppliers = supplies_df.groupby('P#').filter(lambda x: set(x['S#']) == all_suppliers)\n",
    "products_available_for_all = product_df[product_df['P#'].isin(products_by_all_suppliers['P#'])]\n",
    "print(\"\\nMặt hàng được cung ứng bởi tất cả các hãng:\")\n",
    "print(products_available_for_all[['NAME']])"
   ]
  }
 ],
 "metadata": {
  "kernelspec": {
   "display_name": "base",
   "language": "python",
   "name": "python3"
  },
  "language_info": {
   "codemirror_mode": {
    "name": "ipython",
    "version": 3
   },
   "file_extension": ".py",
   "mimetype": "text/x-python",
   "name": "python",
   "nbconvert_exporter": "python",
   "pygments_lexer": "ipython3",
   "version": "3.11.2"
  },
  "orig_nbformat": 4
 },
 "nbformat": 4,
 "nbformat_minor": 2
}
