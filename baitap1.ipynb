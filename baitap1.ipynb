{
 "cells": [
  {
   "attachments": {},
   "cell_type": "markdown",
   "metadata": {},
   "source": [
    "# Bài tập 1 - Ôn tập Python\n",
    "\n",
    "*(Thống kê máy tính và ứng dụng - ĐTTX Kì 1 2024-2025)*\n",
    "\n",
    "Tài liệu tham khảo: [Bí kíp luyện Python](https://github.com/vqhBook/python)"
   ]
  },
  {
   "cell_type": "markdown",
   "metadata": {},
   "source": [
    "MSSV: 21850024\n",
    "\n",
    "Họ và tên: Nguyễn Minh Tư"
   ]
  },
  {
   "cell_type": "markdown",
   "metadata": {},
   "source": [
    "## Câu 1 (3.5 điểm)\n",
    "\n",
    "(Tham khảo: Bài 6-8)"
   ]
  },
  {
   "cell_type": "markdown",
   "metadata": {},
   "source": [
    "**Bài tập 6.5** *(1 điểm)*"
   ]
  },
  {
   "cell_type": "code",
   "execution_count": 11,
   "metadata": {},
   "outputs": [
    {
     "name": "stdout",
     "output_type": "stream",
     "text": [
      "The total electricity bill for 450 kWh is 1209.05 VND\n"
     ]
    }
   ],
   "source": [
    "def calculate_electricity_bill(consumption):\n",
    "    # Define the pricing tiers\n",
    "    tiers = [\n",
    "        (50, 1.678),   # Tier 1: 0-50 kWh\n",
    "        (50, 1.734),   # Tier 2: 51-100 kWh\n",
    "        (100, 2.014),  # Tier 3: 101-200 kWh\n",
    "        (100, 2.536),  # Tier 4: 201-300 kWh\n",
    "        (100, 2.834),  # Tier 5: 301-400 kWh\n",
    "        (float('inf'), 2.927) # Tier 6: 401 kWh and above\n",
    "    ]\n",
    "    \n",
    "    total_cost = 0\n",
    "    previous_limit = 0\n",
    "    \n",
    "    for limit, price in tiers:\n",
    "        if consumption > limit:\n",
    "            # Calculate the amount of kWh for this tier\n",
    "            amount = limit - previous_limit\n",
    "            total_cost += amount * price\n",
    "            consumption -= amount\n",
    "            previous_limit = limit\n",
    "        else:\n",
    "            # Calculate the remaining kWh in the final tier\n",
    "            total_cost += consumption * price\n",
    "            break\n",
    "    \n",
    "    return total_cost\n",
    "\n",
    "# Example usage\n",
    "consumption = 450  # Replace with your actual kWh consumption\n",
    "bill = calculate_electricity_bill(consumption)\n",
    "print(f\"The total electricity bill for {consumption} kWh is {bill} VND\")"
   ]
  },
  {
   "cell_type": "markdown",
   "metadata": {},
   "source": [
    "**Bài tập 7.9** *(1.5 điểm)*"
   ]
  },
  {
   "cell_type": "code",
   "execution_count": 1,
   "metadata": {},
   "outputs": [
    {
     "name": "stdout",
     "output_type": "stream",
     "text": [
      "1\n",
      "1 1\n",
      "1 2 1\n",
      "1 3 3 1\n",
      "1 4 6 4 1\n",
      "1 5 10 10 5 1\n",
      "1 6 15 20 15 6 1\n"
     ]
    }
   ],
   "source": [
    "def generate_pascals_triangle(n):\n",
    "    # Khởi tạo tam giác với dòng đầu tiên là [1]\n",
    "    triangle = [[1]]\n",
    "\n",
    "    # Tạo các dòng tiếp theo của tam giác Pascal\n",
    "    for i in range(1, n):\n",
    "        # Khởi tạo dòng mới với số đầu tiên là 1\n",
    "        row = [1]\n",
    "        # Tính các giá trị ở giữa của dòng\n",
    "        for j in range(1, i):\n",
    "            row.append(triangle[i-1][j-1] + triangle[i-1][j])\n",
    "        # Thêm số 1 vào cuối dòng\n",
    "        row.append(1)\n",
    "        triangle.append(row)\n",
    "\n",
    "    return triangle\n",
    "\n",
    "def print_pascals_triangle(triangle):\n",
    "    # In từng dòng của tam giác Pascal\n",
    "    for row in triangle:\n",
    "        print(' '.join(map(str, row)))\n",
    "\n",
    "# Nhập số dòng từ người dùng\n",
    "n = int(input(\"Nhập số dòng của Tam giác Pascal: \"))\n",
    "\n",
    "# Tạo Tam giác Pascal\n",
    "triangle = generate_pascals_triangle(n)\n",
    "\n",
    "# In Tam giác Pascal\n",
    "print_pascals_triangle(triangle)\n"
   ]
  },
  {
   "cell_type": "markdown",
   "metadata": {},
   "source": [
    "**Bài tập 8.3** *(1 điểm)*"
   ]
  },
  {
   "cell_type": "code",
   "execution_count": 2,
   "metadata": {},
   "outputs": [
    {
     "name": "stdout",
     "output_type": "stream",
     "text": [
      "10 không phải là số nguyên tố.\n",
      "20 không phải là số nguyên tố.\n",
      "34 không phải là số nguyên tố.\n",
      "34 không phải là số nguyên tố.\n",
      "6 không phải là số nguyên tố.\n",
      "1 không phải là số nguyên tố.\n",
      "89 là số nguyên tố.\n",
      "9 không phải là số nguyên tố.\n"
     ]
    }
   ],
   "source": [
    "def is_prime(n):\n",
    "    # Kiểm tra các trường hợp đặc biệt\n",
    "    if n <= 1:\n",
    "        return False\n",
    "    if n == 2:\n",
    "        return True  # 2 là số nguyên tố\n",
    "    if n % 2 == 0:\n",
    "        return False  # Loại bỏ các số chẵn khác 2\n",
    "\n",
    "    # Kiểm tra các ước số từ 3 đến căn bậc hai của n\n",
    "    for i in range(3, int(n**0.5) + 1, 2):\n",
    "        if n % i == 0:\n",
    "            return False\n",
    "\n",
    "    return True\n",
    "\n",
    "# Kiểm tra các số người dùng nhập có phải là số nguyên tố hay không\n",
    "def check_prime_numbers():\n",
    "    while True:\n",
    "        number = input(\"Nhập một số nguyên dương (hoặc 'q' để thoát): \")\n",
    "        if number.lower() == 'q':\n",
    "            break\n",
    "        try:\n",
    "            num = int(number)\n",
    "            if is_prime(num):\n",
    "                print(f\"{num} là số nguyên tố.\")\n",
    "            else:\n",
    "                print(f\"{num} không phải là số nguyên tố.\")\n",
    "        except ValueError:\n",
    "            print(\"Vui lòng nhập một số nguyên dương hợp lệ.\")\n",
    "\n",
    "# Chạy chương trình kiểm tra số nguyên tố\n",
    "check_prime_numbers()"
   ]
  },
  {
   "cell_type": "markdown",
   "metadata": {},
   "source": [
    "## Câu 2 (2.5 điểm)\n",
    "\n",
    "(Tham khảo: Bài 11-12)"
   ]
  },
  {
   "cell_type": "markdown",
   "metadata": {},
   "source": [
    "**Bài tập 11.10**"
   ]
  },
  {
   "cell_type": "markdown",
   "metadata": {},
   "source": [
    "*Câu (a) (1.5 điểm)* - Viết các hàm tính các thống kê"
   ]
  },
  {
   "cell_type": "code",
   "execution_count": 3,
   "metadata": {},
   "outputs": [],
   "source": [
    "import math\n",
    "\n",
    "def mean(data):\n",
    "    \"\"\"Tính trung bình của danh sách số liệu.\"\"\"\n",
    "    return sum(data) / len(data)\n",
    "\n",
    "def median(data):\n",
    "    \"\"\"Tính trung vị của danh sách số liệu.\"\"\"\n",
    "    sorted_data = sorted(data)\n",
    "    n = len(sorted_data)\n",
    "    mid = n // 2\n",
    "\n",
    "    if n % 2 == 0:\n",
    "        return (sorted_data[mid - 1] + sorted_data[mid]) / 2\n",
    "    else:\n",
    "        return sorted_data[mid]\n",
    "\n",
    "def variance(data):\n",
    "    \"\"\"Tính phương sai của danh sách số liệu.\"\"\"\n",
    "    avg = mean(data)\n",
    "    return sum((x - avg) ** 2 for x in data) / len(data)\n",
    "\n",
    "def standard_deviation(data):\n",
    "    \"\"\"Tính độ lệch chuẩn của danh sách số liệu.\"\"\"\n",
    "    return math.sqrt(variance(data))\n",
    "\n",
    "def mode(data):\n",
    "    \"\"\"Tính mode (giá trị xuất hiện nhiều nhất) của danh sách số liệu.\"\"\"\n",
    "    frequency = {}\n",
    "    for num in data:\n",
    "        frequency[num] = frequency.get(num, 0) + 1\n",
    "    max_freq = max(frequency.values())\n",
    "    modes = [key for key, value in frequency.items() if value == max_freq]\n",
    "\n",
    "    if len(modes) == len(data):\n",
    "        return None  # Không có mode nếu tất cả các giá trị đều xuất hiện một lần\n",
    "    return modes\n"
   ]
  },
  {
   "cell_type": "markdown",
   "metadata": {},
   "source": [
    "*Câu (b, c) (1 điểm)* - Cho người dùng nhập số liệu, gọi các hàm đã viết để tính các thống kê và so sánh với các hàm trong module `statistics`."
   ]
  },
  {
   "cell_type": "code",
   "execution_count": 5,
   "metadata": {},
   "outputs": [
    {
     "name": "stdout",
     "output_type": "stream",
     "text": [
      "Trung bình: 4.0\n",
      "Trung vị: 4.5\n",
      "Phương sai: 3.4\n",
      "Độ lệch chuẩn: 1.8439088914585775\n",
      "Mode: [5]\n"
     ]
    }
   ],
   "source": [
    "# Ví dụ về danh sách số liệu\n",
    "data = [1, 2, 2, 3, 4, 5, 5, 5, 6, 7]\n",
    "\n",
    "# Tính toán các thống kê\n",
    "mean_value = mean(data)\n",
    "median_value = median(data)\n",
    "variance_value = variance(data)\n",
    "std_dev_value = standard_deviation(data)\n",
    "mode_value = mode(data)\n",
    "\n",
    "# In kết quả\n",
    "print(f\"Trung bình: {mean_value}\")\n",
    "print(f\"Trung vị: {median_value}\")\n",
    "print(f\"Phương sai: {variance_value}\")\n",
    "print(f\"Độ lệch chuẩn: {std_dev_value}\")\n",
    "print(f\"Mode: {mode_value}\")"
   ]
  },
  {
   "cell_type": "markdown",
   "metadata": {},
   "source": [
    "## Câu 3 (4 điểm)\n",
    "\n",
    "(Tham khảo: Bài 17)"
   ]
  },
  {
   "cell_type": "markdown",
   "metadata": {},
   "source": [
    "**Bài tập 17.3** *(1 điểm)*\n",
    "\n",
    "Tập tin chứa văn bản ''có đánh dấu'' là tập tin `RoJu.txt`"
   ]
  },
  {
   "cell_type": "code",
   "execution_count": null,
   "metadata": {},
   "outputs": [],
   "source": []
  },
  {
   "cell_type": "markdown",
   "metadata": {},
   "source": [
    "**Bài tập 17.4** *(1 điểm)*\n",
    "\n",
    "Truyện Kiều để trong tập tin `TruyenKieu.txt`"
   ]
  },
  {
   "cell_type": "code",
   "execution_count": null,
   "metadata": {},
   "outputs": [],
   "source": []
  },
  {
   "cell_type": "markdown",
   "metadata": {},
   "source": [
    "**Bài tập 17.6** *(2 điểm)*\n",
    "\n",
    "Truyện Kiều để trong tập tin `TruyenKieu.txt`"
   ]
  },
  {
   "cell_type": "code",
   "execution_count": null,
   "metadata": {},
   "outputs": [],
   "source": []
  }
 ],
 "metadata": {
  "kernelspec": {
   "display_name": "Python 3 (ipykernel)",
   "language": "python",
   "name": "python3"
  },
  "language_info": {
   "codemirror_mode": {
    "name": "ipython",
    "version": 3
   },
   "file_extension": ".py",
   "mimetype": "text/x-python",
   "name": "python",
   "nbconvert_exporter": "python",
   "pygments_lexer": "ipython3",
   "version": "3.11.2"
  },
  "vscode": {
   "interpreter": {
    "hash": "5179d32cf6ec497baf3f8a3ef987cc77c5d2dc691fdde20a56316522f61a7323"
   }
  }
 },
 "nbformat": 4,
 "nbformat_minor": 4
}
