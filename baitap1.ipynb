{
 "cells": [
  {
   "attachments": {},
   "cell_type": "markdown",
   "metadata": {},
   "source": [
    "# Bài tập 1 - Ôn tập Python\n",
    "\n",
    "*(Thống kê máy tính và ứng dụng - ĐTTX Kì 1 2024-2025)*\n",
    "\n",
    "Tài liệu tham khảo: [Bí kíp luyện Python](https://github.com/vqhBook/python)"
   ]
  },
  {
   "cell_type": "markdown",
   "metadata": {},
   "source": [
    "MSSV: 21850024\n",
    "\n",
    "Họ và tên: Nguyễn Minh Tư"
   ]
  },
  {
   "cell_type": "markdown",
   "metadata": {},
   "source": [
    "## Câu 1 (3.5 điểm)\n",
    "\n",
    "(Tham khảo: Bài 6-8)"
   ]
  },
  {
   "cell_type": "markdown",
   "metadata": {},
   "source": [
    "**Bài tập 6.5** *(1 điểm)*"
   ]
  },
  {
   "cell_type": "code",
   "execution_count": 31,
   "metadata": {},
   "outputs": [
    {
     "name": "stdout",
     "output_type": "stream",
     "text": [
      "Tiền điện tiêu thụ:  1055.35\n"
     ]
    }
   ],
   "source": [
    "def tinh_tien_dien(soDien):\n",
    "    # Xác định giới hạn các bậc và mức giá\n",
    "    gioi_han_bac = [50, 50, 100, 100, 100]\n",
    "    muc_gia = [1.678, 1.734, 2.014, 2.536, 2.834, 2.927]\n",
    "\n",
    "    # Tính toán tiền điện\n",
    "    tienDien = 0\n",
    "    luong_su_dung_con_lai = soDien\n",
    "\n",
    "    for i in range(len(gioi_han_bac)):\n",
    "        if luong_su_dung_con_lai > gioi_han_bac[i]:\n",
    "            tienDien += gioi_han_bac[i] * muc_gia[i]\n",
    "            luong_su_dung_con_lai -= gioi_han_bac[i]\n",
    "        else:\n",
    "            tienDien += luong_su_dung_con_lai * muc_gia[i]\n",
    "            luong_su_dung_con_lai = 0\n",
    "            break\n",
    "\n",
    "    # Xử lý trường hợp tiêu thụ vượt quá các bậc đã định\n",
    "    if luong_su_dung_con_lai > 0:\n",
    "        tienDien += luong_su_dung_con_lai * muc_gia[-1]\n",
    "\n",
    "    return tienDien\n",
    "\n",
    "# Nhập số điện\n",
    "soDien = float(input('Nhập vào số điện sử dụng (kWh): \\n'))\n",
    "\n",
    "# Tính và in ra tiền điện\n",
    "tienDien = tinh_tien_dien(soDien)\n",
    "print('Tiền điện tiêu thụ: ', tienDien)"
   ]
  },
  {
   "cell_type": "code",
   "execution_count": null,
   "metadata": {},
   "outputs": [],
   "source": [
    "soDien = float(input('Nhập vào số điện sử dụng (kWh): \\n'))\n",
    "tienDien = 0\n",
    "\n",
    "if soDien <= 50:\n",
    "    tienDien = soDien * 1.678\n",
    "elif soDien <= 100:\n",
    "    tienDien = 50 * 1.678 + (soDien - 50) * 1.734\n",
    "elif soDien <= 200:\n",
    "    tienDien = 50 * 1.678 + 50 * 1.734 + (soDien - 100) * 2.014\n",
    "elif soDien <= 300:\n",
    "    tienDien = 50 * 1.678 + 50 * 1.734 + 100 * 2.014 + (soDien - 200) * 2.536\n",
    "elif soDien <= 400:\n",
    "    tienDien = 50 * 1.678 + 50 * 1.734 + 100 * 2.014 + 100 * 2.536 + (soDien - 300) * 2.834\n",
    "else:\n",
    "    tienDien = 50 * 1.678 + 50 * 1.734 + 100 * 2.014 + 100 * 2.536 + 100 * 2.834 + (soDien - 400) * 2.927\n",
    "\n",
    "print('Tiền điện tiêu thụ: ', round(tienDien, 2))"
   ]
  },
  {
   "cell_type": "markdown",
   "metadata": {},
   "source": [
    "**Bài tập 7.9** *(1.5 điểm)*"
   ]
  },
  {
   "cell_type": "code",
   "execution_count": null,
   "metadata": {},
   "outputs": [],
   "source": [
    "def generate_pascals_triangle(n):\n",
    "    # Khởi tạo tam giác với dòng đầu tiên là [1]\n",
    "    triangle = [[1]]\n",
    "\n",
    "    # Tạo các dòng tiếp theo của tam giác Pascal\n",
    "    for i in range(1, n):\n",
    "        # Khởi tạo dòng mới với số đầu tiên là 1\n",
    "        row = [1]\n",
    "        # Tính các giá trị ở giữa của dòng\n",
    "        for j in range(1, i):\n",
    "            row.append(triangle[i-1][j-1] + triangle[i-1][j])\n",
    "        # Thêm số 1 vào cuối dòng\n",
    "        row.append(1)\n",
    "        triangle.append(row)\n",
    "\n",
    "    return triangle\n",
    "\n",
    "def print_pascals_triangle(triangle):\n",
    "    # In từng dòng của tam giác Pascal\n",
    "    for row in triangle:\n",
    "        print(' '.join(map(str, row)))\n",
    "\n",
    "# Nhập số dòng từ người dùng\n",
    "n = int(input(\"Nhập số dòng của Tam giác Pascal: \"))\n",
    "\n",
    "# Tạo Tam giác Pascal\n",
    "triangle = generate_pascals_triangle(n)\n",
    "\n",
    "# In Tam giác Pascal\n",
    "print_pascals_triangle(triangle)\n"
   ]
  },
  {
   "cell_type": "markdown",
   "metadata": {},
   "source": [
    "**Bài tập 8.3** *(1 điểm)*"
   ]
  },
  {
   "cell_type": "code",
   "execution_count": null,
   "metadata": {},
   "outputs": [],
   "source": [
    "def is_prime(n):\n",
    "    # Kiểm tra các trường hợp đặc biệt\n",
    "    if n <= 1:\n",
    "        return False\n",
    "    if n == 2:\n",
    "        return True  # 2 là số nguyên tố\n",
    "    if n % 2 == 0:\n",
    "        return False  # Loại bỏ các số chẵn khác 2\n",
    "\n",
    "    # Kiểm tra các ước số từ 3 đến căn bậc hai của n\n",
    "    for i in range(3, int(n**0.5) + 1, 2):\n",
    "        if n % i == 0:\n",
    "            return False\n",
    "\n",
    "    return True\n",
    "\n",
    "# Kiểm tra các số người dùng nhập có phải là số nguyên tố hay không\n",
    "def check_prime_numbers():\n",
    "    while True:\n",
    "        number = input(\"Nhập một số nguyên dương (sử dụng 'q' hoặc 'x' để thoát): \")\n",
    "        if number.lower() == 'q' or number.lower() == 'x':\n",
    "            break\n",
    "        try:\n",
    "            num = int(number)\n",
    "            if is_prime(num):\n",
    "                print(f\"{num} là số nguyên tố.\")\n",
    "            else:\n",
    "                print(f\"{num} không phải là số nguyên tố.\")\n",
    "        except ValueError:\n",
    "            print(\"Vui lòng nhập một số nguyên dương hợp lệ.\")\n",
    "\n",
    "# Chạy chương trình kiểm tra số nguyên tố\n",
    "check_prime_numbers()"
   ]
  },
  {
   "cell_type": "markdown",
   "metadata": {},
   "source": [
    "## Câu 2 (2.5 điểm)\n",
    "\n",
    "(Tham khảo: Bài 11-12)"
   ]
  },
  {
   "cell_type": "markdown",
   "metadata": {},
   "source": [
    "**Bài tập 11.10**"
   ]
  },
  {
   "cell_type": "markdown",
   "metadata": {},
   "source": [
    "*Câu (a) (1.5 điểm)* - Viết các hàm tính các thống kê"
   ]
  },
  {
   "cell_type": "code",
   "execution_count": null,
   "metadata": {},
   "outputs": [],
   "source": [
    "import math\n",
    "\n",
    "def mean(data):\n",
    "    \"\"\"Tính trung bình của danh sách số liệu.\"\"\"\n",
    "    return sum(data) / len(data)\n",
    "\n",
    "def median(data):\n",
    "    \"\"\"Tính trung vị của danh sách số liệu.\"\"\"\n",
    "    sorted_data = sorted(data)\n",
    "    n = len(sorted_data)\n",
    "    mid = n // 2\n",
    "\n",
    "    if n % 2 == 0:\n",
    "        return (sorted_data[mid - 1] + sorted_data[mid]) / 2\n",
    "    else:\n",
    "        return sorted_data[mid]\n",
    "\n",
    "def variance(data):\n",
    "    \"\"\"Tính phương sai của danh sách số liệu.\"\"\"\n",
    "    avg = mean(data)\n",
    "    return sum((x - avg) ** 2 for x in data) / len(data)\n",
    "\n",
    "def standard_deviation(data):\n",
    "    \"\"\"Tính độ lệch chuẩn của danh sách số liệu.\"\"\"\n",
    "    return math.sqrt(variance(data))\n",
    "\n",
    "def mode(data):\n",
    "    \"\"\"Tính mode (giá trị xuất hiện nhiều nhất) của danh sách số liệu.\"\"\"\n",
    "    frequency = {}\n",
    "    for num in data:\n",
    "        frequency[num] = frequency.get(num, 0) + 1\n",
    "    max_freq = max(frequency.values())\n",
    "    modes = [key for key, value in frequency.items() if value == max_freq]\n",
    "\n",
    "    if len(modes) == len(data):\n",
    "        return None  # Không có mode nếu tất cả các giá trị đều xuất hiện một lần\n",
    "    return modes\n"
   ]
  },
  {
   "cell_type": "markdown",
   "metadata": {},
   "source": [
    "*Câu (b, c) (1 điểm)* - Cho người dùng nhập số liệu, gọi các hàm đã viết để tính các thống kê và so sánh với các hàm trong module `statistics`."
   ]
  },
  {
   "cell_type": "code",
   "execution_count": null,
   "metadata": {},
   "outputs": [],
   "source": [
    "import statistics;\n",
    "\n",
    "def get_data_from_user():\n",
    "    \"\"\"Hàm nhận dữ liệu từ người dùng và chuyển đổi thành danh sách số liệu.\"\"\"\n",
    "    data = []\n",
    "    while True:\n",
    "        entry = input(\"Nhập số liệu (sử dụng 'q' or 'x' để kết thúc): \")\n",
    "        if entry.lower() == 'q' or entry.lower() == 'x':\n",
    "            break\n",
    "        try:\n",
    "            number = float(entry)\n",
    "            data.append(number)\n",
    "        except ValueError:\n",
    "            print(\"Vui lòng nhập một số hợp lệ.\")\n",
    "    return data\n",
    "\n",
    "def display_my_statistics(data):\n",
    "    if len(data) == 0:\n",
    "        print(\"Không có số liệu để tính toán.\")\n",
    "        return\n",
    "\n",
    "    mean_value = mean(data)\n",
    "    median_value = median(data)\n",
    "    variance_value = variance(data)\n",
    "    std_dev_value = standard_deviation(data)\n",
    "    mode_value = mode(data)\n",
    "\n",
    "    print(f\"\\nThống kê cho số liệu đã nhập không sử dụng thư viện:\")\n",
    "    print(f\"Trung bình: {mean_value}\")\n",
    "    print(f\"Trung vị: {median_value}\")\n",
    "    print(f\"Phương sai: {variance_value}\")\n",
    "    print(f\"Độ lệch chuẩn: {std_dev_value}\")\n",
    "    print(f\"Mode: {mode_value if mode_value else 'Không có'}\")\n",
    "\n",
    "def display_lib_statistics(data):\n",
    "    \"\"\"Hàm hiển thị các thống kê cho dữ liệu đã nhập.\"\"\"\n",
    "    if len(data) == 0:\n",
    "        print(\"Không có số liệu để tính toán.\")\n",
    "        return\n",
    "\n",
    "    mean_value = statistics.mean(data)\n",
    "    median_value = statistics.median(data)\n",
    "    variance_value = statistics.variance(data)\n",
    "    std_dev_value = statistics.stdev(data)\n",
    "    mode_value = None\n",
    "    try:\n",
    "        mode_value = statistics.mode(data)\n",
    "    except statistics.StatisticsError:\n",
    "        mode_value = \"Không có mode\"\n",
    "\n",
    "    print(f\"\\nThống kê cho số liệu đã nhập có sử dụng thư viện:\")\n",
    "    print(f\"Trung bình: {mean_value}\")\n",
    "    print(f\"Trung vị: {median_value}\")\n",
    "    print(f\"Phương sai: {variance_value}\")\n",
    "    print(f\"Độ lệch chuẩn: {std_dev_value}\")\n",
    "    print(f\"Mode: {mode_value}\")\n",
    "\n",
    "def main():\n",
    "    print(\"Chương trình tính toán thống kê\")\n",
    "    data = get_data_from_user()\n",
    "    display_my_statistics(data)\n",
    "    display_lib_statistics(data)\n",
    "\n",
    "main()"
   ]
  },
  {
   "cell_type": "markdown",
   "metadata": {},
   "source": [
    "## Câu 3 (4 điểm)\n",
    "\n",
    "(Tham khảo: Bài 17)"
   ]
  },
  {
   "cell_type": "markdown",
   "metadata": {},
   "source": [
    "**Bài tập 17.3** *(1 điểm)*\n",
    "\n",
    "Tập tin chứa văn bản ''có đánh dấu'' là tập tin `RoJu.txt`"
   ]
  },
  {
   "cell_type": "code",
   "execution_count": null,
   "metadata": {},
   "outputs": [],
   "source": [
    "def replace_characters_in_text(file_path, romeo_name, juliette_name):\n",
    "    try:\n",
    "        with open(file_path, 'r', encoding='utf-8') as file:\n",
    "            content = file.read()\n",
    "\n",
    "        # Thay thế các thẻ <Ro> và <Ju> bằng tên Roméo và Juliette\n",
    "        content = content.replace('<Ro>', romeo_name)\n",
    "        content = content.replace('<Ju>', juliette_name)\n",
    "\n",
    "        # Xuất ra màn hình đoạn trích đã thay thế\n",
    "        print(content)\n",
    "        \n",
    "    except FileNotFoundError:\n",
    "        print(f\"Tệp tin {file_path} không tồn tại.\")\n",
    "    except Exception as e:\n",
    "        print(f\"Đã xảy ra lỗi: {e}\")\n",
    "\n",
    "def main():\n",
    "    # Đường dẫn đến tệp văn bản\n",
    "    file_path = 'RoJu.txt'\n",
    "    \n",
    "    # Nhập tên cho Roméo và Juliette\n",
    "    romeo_name = input(\"Nhập tên cho Roméo: \")\n",
    "    juliette_name = input(\"Nhập tên cho Juliette: \")\n",
    "\n",
    "    # Gọi hàm để thay thế và in ra nội dung\n",
    "    replace_characters_in_text(file_path, romeo_name, juliette_name)\n",
    "\n",
    "main()"
   ]
  },
  {
   "cell_type": "markdown",
   "metadata": {},
   "source": [
    "**Bài tập 17.4** *(1 điểm)*\n",
    "\n",
    "Truyện Kiều để trong tập tin `TruyenKieu.txt`"
   ]
  },
  {
   "cell_type": "code",
   "execution_count": null,
   "metadata": {},
   "outputs": [],
   "source": [
    "def search_kieu(file_path, keyword):\n",
    "    try:\n",
    "        with open(file_path, 'r', encoding='utf-8') as file:\n",
    "            lines = file.readlines()\n",
    "\n",
    "        results = []\n",
    "        for line in lines:\n",
    "            if keyword.lower() in line.lower():\n",
    "                results.append(line.strip())\n",
    "\n",
    "        if results:\n",
    "            print(f\"\\nCác dòng chứa từ khóa '{keyword}':\\n\")\n",
    "            for result in results:\n",
    "                print(result)\n",
    "        else:\n",
    "            print(f\"Không tìm thấy từ khóa '{keyword}' trong Truyện Kiều.\")\n",
    "        \n",
    "    except FileNotFoundError:\n",
    "        print(f\"Tệp tin {file_path} không tồn tại.\")\n",
    "    except Exception as e:\n",
    "        print(f\"Đã xảy ra lỗi: {e}\")\n",
    "\n",
    "def main():\n",
    "    # Đường dẫn đến tệp Truyện Kiều\n",
    "    file_path = 'TruyenKieu.txt'\n",
    "    \n",
    "    # Nhập từ khóa cần tìm kiếm\n",
    "    keyword = input(\"Nhập từ khóa cần tìm trong Truyện Kiều: \")\n",
    "\n",
    "    # Gọi hàm để tìm kiếm từ khóa trong nội dung Truyện Kiều\n",
    "    search_kieu(file_path, keyword)\n",
    "\n",
    "main()"
   ]
  },
  {
   "cell_type": "markdown",
   "metadata": {},
   "source": [
    "**Bài tập 17.6** *(2 điểm)*\n",
    "\n",
    "Truyện Kiều để trong tập tin `TruyenKieu.txt`"
   ]
  },
  {
   "cell_type": "code",
   "execution_count": null,
   "metadata": {},
   "outputs": [],
   "source": [
    "# Cài đặt thư viện ViTokenizer\n",
    "# ViTokenizer là một thư viện phân tách từ (tokenizer) cho tiếng Việt. Thư viện này giúp chia tách văn bản tiếng Việt thành các đơn vị từ (tokens) để xử lý ngôn ngữ tự nhiên, chẳng hạn như phân tích cú pháp hoặc trích xuất thông tin. ViTokenizer thường được sử dụng trong các ứng dụng xử lý ngôn ngữ tự nhiên (NLP) cho tiếng Việt, như trong việc phân tích văn bản, tìm kiếm và dịch thuật.\n",
    "# Nguồn: https://github.com/trungtv/pyvi\n",
    "# Ngoài ra có thể sử dụng thư viện: https://github.com/vncorenlp/VnCoreNLP, tuy nhiên thời gian khởi tạo khá lâu, cần cân nhắc.\n",
    "\n",
    "pip install pyvi"
   ]
  },
  {
   "cell_type": "code",
   "execution_count": null,
   "metadata": {},
   "outputs": [],
   "source": [
    "from pyvi import ViTokenizer\n",
    "from collections import Counter\n",
    "import re\n",
    "\n",
    "# Đọc văn bản từ tập tin\n",
    "with open('TruyenKieu.txt', 'r', encoding='utf-8') as file:\n",
    "    text = file.read()\n",
    "\n",
    "# Phân tách từ\n",
    "tokens = ViTokenizer.tokenize(text).split()\n",
    "\n",
    "# Tính tần số từ\n",
    "word_counts = Counter(tokens)\n",
    "\n",
    "# Tính tần số kí tự\n",
    "char_counts = Counter(text)\n",
    "\n",
    "# In ra 10 từ phổ biến nhất\n",
    "print(\"10 từ phổ biến nhất:\")\n",
    "for word, count in word_counts.most_common(10):\n",
    "    print(f\"{word}: {count}\")\n",
    "\n",
    "# In ra 10 kí tự phổ biến nhất\n",
    "print(\"\\n10 kí tự phổ biến nhất:\")\n",
    "for char, count in char_counts.most_common(10):\n",
    "    print(f\"{char}: {count}\")\n",
    "\n",
    "# Tính mô hình n-gram (ví dụ: bigram)\n",
    "def generate_ngrams(tokens, n):\n",
    "    return [tuple(tokens[i:i+n]) for i in range(len(tokens)-n+1)]\n",
    "\n",
    "# Tính bigram\n",
    "bigrams = generate_ngrams(tokens, 2)\n",
    "bigram_counts = Counter(bigrams)\n",
    "\n",
    "# In ra 10 bigram phổ biến nhất\n",
    "print(\"\\n10 bigram phổ biến nhất:\")\n",
    "for bigram, count in bigram_counts.most_common(10):\n",
    "    print(f\"{bigram}: {count}\")\n"
   ]
  }
 ],
 "metadata": {
  "kernelspec": {
   "display_name": "Python 3 (ipykernel)",
   "language": "python",
   "name": "python3"
  },
  "language_info": {
   "codemirror_mode": {
    "name": "ipython",
    "version": 3
   },
   "file_extension": ".py",
   "mimetype": "text/x-python",
   "name": "python",
   "nbconvert_exporter": "python",
   "pygments_lexer": "ipython3",
   "version": "3.11.2"
  },
  "vscode": {
   "interpreter": {
    "hash": "5179d32cf6ec497baf3f8a3ef987cc77c5d2dc691fdde20a56316522f61a7323"
   }
  }
 },
 "nbformat": 4,
 "nbformat_minor": 4
}
