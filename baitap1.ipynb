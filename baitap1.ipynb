{
 "cells": [
  {
   "attachments": {},
   "cell_type": "markdown",
   "metadata": {},
   "source": [
    "# Bài tập 1 - Ôn tập Python\n",
    "\n",
    "*(Thống kê máy tính và ứng dụng - ĐTTX Kì 1 2024-2025)*\n",
    "\n",
    "Tài liệu tham khảo: [Bí kíp luyện Python](https://github.com/vqhBook/python)"
   ]
  },
  {
   "cell_type": "markdown",
   "metadata": {},
   "source": [
    "MSSV: 21850024\n",
    "\n",
    "Họ và tên: Nguyễn Minh Tư"
   ]
  },
  {
   "cell_type": "markdown",
   "metadata": {},
   "source": [
    "## Câu 1 (3.5 điểm)\n",
    "\n",
    "(Tham khảo: Bài 6-8)"
   ]
  },
  {
   "cell_type": "markdown",
   "metadata": {},
   "source": [
    "**Bài tập 6.5** *(1 điểm)*"
   ]
  },
  {
   "cell_type": "code",
   "execution_count": 11,
   "metadata": {},
   "outputs": [
    {
     "name": "stdout",
     "output_type": "stream",
     "text": [
      "The total electricity bill for 450 kWh is 1209.05 VND\n"
     ]
    }
   ],
   "source": [
    "def calculate_electricity_bill(consumption):\n",
    "    # Define the pricing tiers\n",
    "    tiers = [\n",
    "        (50, 1.678),   # Tier 1: 0-50 kWh\n",
    "        (50, 1.734),   # Tier 2: 51-100 kWh\n",
    "        (100, 2.014),  # Tier 3: 101-200 kWh\n",
    "        (100, 2.536),  # Tier 4: 201-300 kWh\n",
    "        (100, 2.834),  # Tier 5: 301-400 kWh\n",
    "        (float('inf'), 2.927) # Tier 6: 401 kWh and above\n",
    "    ]\n",
    "    \n",
    "    total_cost = 0\n",
    "    previous_limit = 0\n",
    "    \n",
    "    for limit, price in tiers:\n",
    "        if consumption > limit:\n",
    "            # Calculate the amount of kWh for this tier\n",
    "            amount = limit - previous_limit\n",
    "            total_cost += amount * price\n",
    "            consumption -= amount\n",
    "            previous_limit = limit\n",
    "        else:\n",
    "            # Calculate the remaining kWh in the final tier\n",
    "            total_cost += consumption * price\n",
    "            break\n",
    "    \n",
    "    return total_cost\n",
    "\n",
    "# Example usage\n",
    "consumption = 450  # Replace with your actual kWh consumption\n",
    "bill = calculate_electricity_bill(consumption)\n",
    "print(f\"The total electricity bill for {consumption} kWh is {bill} VND\")"
   ]
  },
  {
   "cell_type": "markdown",
   "metadata": {},
   "source": [
    "**Bài tập 7.9** *(1.5 điểm)*"
   ]
  },
  {
   "cell_type": "code",
   "execution_count": null,
   "metadata": {},
   "outputs": [],
   "source": []
  },
  {
   "cell_type": "markdown",
   "metadata": {},
   "source": [
    "**Bài tập 8.3** *(1 điểm)*"
   ]
  },
  {
   "cell_type": "code",
   "execution_count": null,
   "metadata": {},
   "outputs": [],
   "source": []
  },
  {
   "cell_type": "markdown",
   "metadata": {},
   "source": [
    "## Câu 2 (2.5 điểm)\n",
    "\n",
    "(Tham khảo: Bài 11-12)"
   ]
  },
  {
   "cell_type": "markdown",
   "metadata": {},
   "source": [
    "**Bài tập 11.10**"
   ]
  },
  {
   "cell_type": "markdown",
   "metadata": {},
   "source": [
    "*Câu (a) (1.5 điểm)* - Viết các hàm tính các thống kê"
   ]
  },
  {
   "cell_type": "code",
   "execution_count": null,
   "metadata": {},
   "outputs": [],
   "source": []
  },
  {
   "cell_type": "markdown",
   "metadata": {},
   "source": [
    "*Câu (b, c) (1 điểm)* - Cho người dùng nhập số liệu, gọi các hàm đã viết để tính các thống kê và so sánh với các hàm trong module `statistics`."
   ]
  },
  {
   "cell_type": "code",
   "execution_count": null,
   "metadata": {},
   "outputs": [],
   "source": []
  },
  {
   "cell_type": "markdown",
   "metadata": {},
   "source": [
    "## Câu 3 (4 điểm)\n",
    "\n",
    "(Tham khảo: Bài 17)"
   ]
  },
  {
   "cell_type": "markdown",
   "metadata": {},
   "source": [
    "**Bài tập 17.3** *(1 điểm)*\n",
    "\n",
    "Tập tin chứa văn bản ''có đánh dấu'' là tập tin `RoJu.txt`"
   ]
  },
  {
   "cell_type": "code",
   "execution_count": null,
   "metadata": {},
   "outputs": [],
   "source": []
  },
  {
   "cell_type": "markdown",
   "metadata": {},
   "source": [
    "**Bài tập 17.4** *(1 điểm)*\n",
    "\n",
    "Truyện Kiều để trong tập tin `TruyenKieu.txt`"
   ]
  },
  {
   "cell_type": "code",
   "execution_count": null,
   "metadata": {},
   "outputs": [],
   "source": []
  },
  {
   "cell_type": "markdown",
   "metadata": {},
   "source": [
    "**Bài tập 17.6** *(2 điểm)*\n",
    "\n",
    "Truyện Kiều để trong tập tin `TruyenKieu.txt`"
   ]
  },
  {
   "cell_type": "code",
   "execution_count": null,
   "metadata": {},
   "outputs": [],
   "source": []
  }
 ],
 "metadata": {
  "kernelspec": {
   "display_name": "Python 3 (ipykernel)",
   "language": "python",
   "name": "python3"
  },
  "language_info": {
   "codemirror_mode": {
    "name": "ipython",
    "version": 3
   },
   "file_extension": ".py",
   "mimetype": "text/x-python",
   "name": "python",
   "nbconvert_exporter": "python",
   "pygments_lexer": "ipython3",
   "version": "3.11.2"
  },
  "vscode": {
   "interpreter": {
    "hash": "5179d32cf6ec497baf3f8a3ef987cc77c5d2dc691fdde20a56316522f61a7323"
   }
  }
 },
 "nbformat": 4,
 "nbformat_minor": 4
}
